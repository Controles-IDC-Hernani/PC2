{
 "cells": [
  {
   "cell_type": "markdown",
   "metadata": {},
   "source": [
    "## Librerías a usar"
   ]
  },
  {
   "cell_type": "code",
   "execution_count": 2,
   "metadata": {},
   "outputs": [],
   "source": [
    "import pandas as pd"
   ]
  },
  {
   "cell_type": "markdown",
   "metadata": {},
   "source": [
    "# Procesamiento de la data"
   ]
  },
  {
   "cell_type": "markdown",
   "metadata": {},
   "source": [
    "### Extracción"
   ]
  },
  {
   "cell_type": "code",
   "execution_count": null,
   "metadata": {},
   "outputs": [],
   "source": [
    "df=pd.read_csv(r'https://raw.githubusercontent.com/Controles-IDC-Hernani/PC2/refs/heads/main/HDI%20-%20Table%201.csv')"
   ]
  },
  {
   "cell_type": "markdown",
   "metadata": {},
   "source": [
    "### Eliminación de columnas innecesarias"
   ]
  },
  {
   "cell_type": "code",
   "execution_count": null,
   "metadata": {},
   "outputs": [],
   "source": [
    "df=df.drop(['Unnamed: 3','Unnamed: 5','Unnamed: 7','Unnamed: 9','Unnamed: 11','Unnamed: 13'],axis=1)"
   ]
  },
  {
   "cell_type": "markdown",
   "metadata": {},
   "source": [
    "### Creación y reemplazo de los nombres de las columnas"
   ]
  },
  {
   "cell_type": "code",
   "execution_count": null,
   "metadata": {},
   "outputs": [],
   "source": [
    "column_names=list(df.iloc[4])[0:2]+list(df.iloc[3])[2:]\n",
    "column_names[-1]='HDI rank 2020'\n",
    "df.columns=column_names"
   ]
  },
  {
   "cell_type": "markdown",
   "metadata": {},
   "source": [
    "### Extracción de filas relevantes"
   ]
  },
  {
   "cell_type": "code",
   "execution_count": null,
   "metadata": {},
   "outputs": [],
   "source": [
    "# se toman de la fila 7 a la 205\n",
    "df=df.iloc[7:206]\n",
    "# se usa la columna 'Life expectancy at birth' para eliminar subtítulos\n",
    "# (VERY HIGH HUMAN DEVELOPMENT, HIGH HUMAN DEVELOPMENT, MEDIUM HUMAN DEVELOPMENT, LOW HUMAN DEVELOPMENT, OTHER COUNTRIES OR TERRITORIES)\n",
    "df = df[df['Life expectancy at birth'].notna()]\n",
    "# se resetea el índice\n",
    "df.reset_index(drop=True, inplace=True)"
   ]
  },
  {
   "cell_type": "markdown",
   "metadata": {},
   "source": [
    "### Se valida las columnas con datos numéricos"
   ]
  },
  {
   "cell_type": "code",
   "execution_count": null,
   "metadata": {},
   "outputs": [],
   "source": [
    "# Sólo las columnas 2 a la última contienen números\n",
    "limpiar_columns = list(df.columns)[2:]\n",
    "\n",
    "for i in range(0,len(limpiar_columns)):\n",
    "    col_1=limpiar_columns[i]\n",
    "    #Se procede a llenar vacíos con un valor string nulo ('')\n",
    "    df[col_1]=df[col_1].fillna('')\n",
    "    # se reemplazan también los valores '..' como string nulo\n",
    "    df[col_1] = df[col_1].astype(str).str.replace(r'\\.\\.', '', regex=True)\n",
    "    # se reemplazan las comas por puntos\n",
    "    df[col_1]=df[col_1].str.replace(',', '.')\n",
    "    # se transforman las variables a valores numéricos\n",
    "    # NOTA: Se mantienen los valores \"Missing values\" porque no tenemos datos con que reemplazarlos\n",
    "    df[col_1] = pd.to_numeric(df[col_1], errors='coerce')"
   ]
  },
  {
   "cell_type": "markdown",
   "metadata": {},
   "source": [
    "### Se limpia errores en la columna \"Gross national income (GNI) per capita\""
   ]
  },
  {
   "cell_type": "code",
   "execution_count": null,
   "metadata": {},
   "outputs": [],
   "source": [
    "# Existen valores mayores a 100, lo cual no es posible para este tipo de datos\n",
    "# Se asumio que se omitió la coma al inicio del número\n",
    "miss_comma=lambda df: df['Gross national income (GNI) per capita']/100 if df['Gross national income (GNI) per capita']>=100 else df['Gross national income (GNI) per capita']\n",
    "df['Gross national income (GNI) per capita']=df.apply(miss_comma,axis=1)"
   ]
  }
 ],
 "metadata": {
  "kernelspec": {
   "display_name": "Python 3",
   "language": "python",
   "name": "python3"
  },
  "language_info": {
   "codemirror_mode": {
    "name": "ipython",
    "version": 3
   },
   "file_extension": ".py",
   "mimetype": "text/x-python",
   "name": "python",
   "nbconvert_exporter": "python",
   "pygments_lexer": "ipython3",
   "version": "3.11.9"
  }
 },
 "nbformat": 4,
 "nbformat_minor": 2
}
